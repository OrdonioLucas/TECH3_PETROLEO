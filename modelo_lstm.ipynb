{
 "cells": [
  {
   "cell_type": "code",
   "execution_count": 9,
   "id": "6722a284",
   "metadata": {},
   "outputs": [
    {
     "name": "stdout",
     "output_type": "stream",
     "text": [
      "Epoch 1/50\n"
     ]
    },
    {
     "name": "stderr",
     "output_type": "stream",
     "text": [
      "C:\\Users\\lucas\\AppData\\Local\\Temp\\ipykernel_11248\\903142149.py:15: FutureWarning: Value based partial slicing on non-monotonic DatetimeIndexes with non-existing keys is deprecated and will raise a KeyError in a future Version.\n",
      "  df = df.loc['2020-01-01':]\n"
     ]
    },
    {
     "name": "stdout",
     "output_type": "stream",
     "text": [
      "1100/1100 [==============================] - 6s 4ms/step - loss: 0.0058\n",
      "Epoch 2/50\n",
      "1100/1100 [==============================] - 5s 4ms/step - loss: 0.0012\n",
      "Epoch 3/50\n",
      "1100/1100 [==============================] - 5s 5ms/step - loss: 9.7496e-04\n",
      "Epoch 4/50\n",
      "1100/1100 [==============================] - 5s 4ms/step - loss: 8.2661e-04\n",
      "Epoch 5/50\n",
      "1100/1100 [==============================] - 5s 5ms/step - loss: 6.8302e-04\n",
      "Epoch 6/50\n",
      "1100/1100 [==============================] - 6s 5ms/step - loss: 6.0132e-04\n",
      "Epoch 7/50\n",
      "1100/1100 [==============================] - 5s 4ms/step - loss: 6.0534e-04\n",
      "Epoch 8/50\n",
      "1100/1100 [==============================] - 4s 4ms/step - loss: 5.6166e-04\n",
      "Epoch 9/50\n",
      "1100/1100 [==============================] - 4s 4ms/step - loss: 5.0985e-04\n",
      "Epoch 10/50\n",
      "1100/1100 [==============================] - 4s 4ms/step - loss: 4.9205e-04\n",
      "Epoch 11/50\n",
      "1100/1100 [==============================] - 4s 4ms/step - loss: 4.2722e-04\n",
      "Epoch 12/50\n",
      "1100/1100 [==============================] - 4s 4ms/step - loss: 4.6683e-04\n",
      "Epoch 13/50\n",
      "1100/1100 [==============================] - 4s 4ms/step - loss: 4.1285e-04\n",
      "Epoch 14/50\n",
      "1100/1100 [==============================] - 4s 4ms/step - loss: 4.3841e-04\n",
      "Epoch 15/50\n",
      "1100/1100 [==============================] - 4s 4ms/step - loss: 4.0853e-04\n",
      "Epoch 16/50\n",
      "1100/1100 [==============================] - 4s 4ms/step - loss: 3.9376e-04\n",
      "Epoch 17/50\n",
      "1100/1100 [==============================] - 4s 4ms/step - loss: 3.9140e-04\n",
      "Epoch 18/50\n",
      "1100/1100 [==============================] - 4s 4ms/step - loss: 3.9318e-04\n",
      "Epoch 19/50\n",
      "1100/1100 [==============================] - 4s 4ms/step - loss: 3.9202e-04\n",
      "Epoch 20/50\n",
      "1100/1100 [==============================] - 4s 4ms/step - loss: 4.1207e-04\n",
      "Epoch 21/50\n",
      "1100/1100 [==============================] - 6s 5ms/step - loss: 4.1247e-04\n",
      "Epoch 22/50\n",
      "1100/1100 [==============================] - 5s 4ms/step - loss: 3.8950e-04\n",
      "Epoch 23/50\n",
      "1100/1100 [==============================] - 4s 4ms/step - loss: 3.9973e-04\n",
      "Epoch 24/50\n",
      "1100/1100 [==============================] - 4s 4ms/step - loss: 3.7913e-04\n",
      "Epoch 25/50\n",
      "1100/1100 [==============================] - 4s 4ms/step - loss: 3.8262e-04\n",
      "Epoch 26/50\n",
      "1100/1100 [==============================] - 5s 4ms/step - loss: 3.7755e-04\n",
      "Epoch 27/50\n",
      "1100/1100 [==============================] - 5s 5ms/step - loss: 3.6746e-04\n",
      "Epoch 28/50\n",
      "1100/1100 [==============================] - 4s 4ms/step - loss: 3.6887e-04\n",
      "Epoch 29/50\n",
      "1100/1100 [==============================] - 4s 4ms/step - loss: 3.6816e-04\n",
      "Epoch 30/50\n",
      "1100/1100 [==============================] - 5s 4ms/step - loss: 3.6631e-04\n",
      "Epoch 31/50\n",
      "1100/1100 [==============================] - 5s 5ms/step - loss: 3.6425e-04\n",
      "Epoch 32/50\n",
      "1100/1100 [==============================] - 5s 4ms/step - loss: 3.5801e-04\n",
      "Epoch 33/50\n",
      "1100/1100 [==============================] - 4s 4ms/step - loss: 3.6852e-04\n",
      "Epoch 34/50\n",
      "1100/1100 [==============================] - 5s 4ms/step - loss: 3.5697e-04\n",
      "Epoch 35/50\n",
      "1100/1100 [==============================] - 5s 4ms/step - loss: 3.5954e-04\n",
      "Epoch 36/50\n",
      "1100/1100 [==============================] - 6s 5ms/step - loss: 3.7020e-04\n",
      "Epoch 37/50\n",
      "1100/1100 [==============================] - 5s 4ms/step - loss: 3.7402e-04\n",
      "Epoch 38/50\n",
      "1100/1100 [==============================] - 4s 4ms/step - loss: 3.5893e-04\n",
      "Epoch 39/50\n",
      "1100/1100 [==============================] - 4s 4ms/step - loss: 3.4246e-04\n",
      "Epoch 40/50\n",
      "1100/1100 [==============================] - 4s 4ms/step - loss: 3.6878e-04\n",
      "Epoch 41/50\n",
      "1100/1100 [==============================] - 5s 4ms/step - loss: 3.6372e-04\n",
      "Epoch 42/50\n",
      "1100/1100 [==============================] - 5s 4ms/step - loss: 3.5916e-04\n",
      "Epoch 43/50\n",
      "1100/1100 [==============================] - 5s 5ms/step - loss: 3.6809e-04\n",
      "Epoch 44/50\n",
      "1100/1100 [==============================] - 5s 5ms/step - loss: 3.5703e-04\n",
      "Epoch 45/50\n",
      "1100/1100 [==============================] - 5s 4ms/step - loss: 3.5735e-04\n",
      "Epoch 46/50\n",
      "1100/1100 [==============================] - 5s 5ms/step - loss: 3.5937e-04\n",
      "Epoch 47/50\n",
      "1100/1100 [==============================] - 5s 4ms/step - loss: 3.4858e-04\n",
      "Epoch 48/50\n",
      "1100/1100 [==============================] - 5s 4ms/step - loss: 3.5661e-04\n",
      "Epoch 49/50\n",
      "1100/1100 [==============================] - 6s 6ms/step - loss: 3.5226e-04\n",
      "Epoch 50/50\n",
      "1100/1100 [==============================] - 5s 4ms/step - loss: 3.6492e-04\n",
      "INFO:tensorflow:Assets written to: lstm_model\\assets\n"
     ]
    },
    {
     "name": "stderr",
     "output_type": "stream",
     "text": [
      "2024-05-19 11:28:27.262 INFO    tensorflow: Assets written to: lstm_model\\assets\n"
     ]
    },
    {
     "data": {
      "text/plain": [
       "['scaler.pkl']"
      ]
     },
     "execution_count": 9,
     "metadata": {},
     "output_type": "execute_result"
    }
   ],
   "source": [
    "import pandas as pd\n",
    "from sklearn.preprocessing import MinMaxScaler\n",
    "from tensorflow.keras.models import Sequential\n",
    "from tensorflow.keras.layers import Dense, LSTM\n",
    "from tensorflow.keras.preprocessing.sequence import TimeseriesGenerator\n",
    "from tensorflow.keras.initializers import Orthogonal\n",
    "import joblib\n",
    "\n",
    "# Load Data\n",
    "df = pd.read_excel('data.xlsx')\n",
    "\n",
    "# Data Preparation\n",
    "df['Date'] = pd.to_datetime(df['Date'], format='%d-%m-%Y')\n",
    "df = df.set_index('Date')\n",
    "df = df.loc['2020-01-01':]\n",
    "\n",
    "# Data Transformation\n",
    "scaler = MinMaxScaler()\n",
    "scaled_train = scaler.fit_transform(df)\n",
    "\n",
    "# Define generator\n",
    "n_input = 10\n",
    "n_features = 1\n",
    "generator = TimeseriesGenerator(scaled_train, scaled_train, length=n_input, batch_size=1)\n",
    "\n",
    "# Define model\n",
    "model = Sequential()\n",
    "model.add(LSTM(80, activation='relu', input_shape=(n_input, n_features),\n",
    "               kernel_initializer=Orthogonal(gain=1.0), recurrent_initializer=Orthogonal(gain=1.0)))\n",
    "model.add(Dense(1))\n",
    "model.compile(optimizer='adam', loss='mse')\n",
    "\n",
    "# Train model\n",
    "model.fit(generator, epochs=50)\n",
    "\n",
    "# Save model and scaler\n",
    "model.save('lstm_model')  # Save in SavedModel format\n",
    "joblib.dump(scaler, 'scaler.pkl')\n"
   ]
  },
  {
   "cell_type": "code",
   "execution_count": null,
   "id": "85dbe2d7",
   "metadata": {},
   "outputs": [],
   "source": []
  }
 ],
 "metadata": {
  "kernelspec": {
   "display_name": "Python 3 (ipykernel)",
   "language": "python",
   "name": "python3"
  },
  "language_info": {
   "codemirror_mode": {
    "name": "ipython",
    "version": 3
   },
   "file_extension": ".py",
   "mimetype": "text/x-python",
   "name": "python",
   "nbconvert_exporter": "python",
   "pygments_lexer": "ipython3",
   "version": "3.9.13"
  }
 },
 "nbformat": 4,
 "nbformat_minor": 5
}
